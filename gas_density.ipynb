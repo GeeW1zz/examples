{
 "cells": [
  {
   "cell_type": "markdown",
   "metadata": {},
   "source": [
    "# Gas density\n",
    "\n",
    "Calculate the density of a gas at temperature and pressure using the ideal gas law.\n",
    "\n",
    "$$\n",
    "\\rho = \\frac{P*MW}{R*T}\n",
    "$$\n",
    "\n",
    "where $\\rho$ = g/m$^3$, $P$ = Pa, $MW$ = g/mol, $R$ = 8.3145 (m$^3$ Pa)/(K mol), and $T$ = Kelvin.\n",
    "\n",
    "\n",
    "## Example"
   ]
  },
  {
   "cell_type": "code",
   "execution_count": 1,
   "metadata": {
    "collapsed": false
   },
   "outputs": [
    {
     "name": "stdout",
     "output_type": "stream",
     "text": [
      "density of N2 gas (g/m^3) = 441.6383751729102\n",
      "density of N2 gas (kg/m^3) = 0.44163837517291016\n"
     ]
    }
   ],
   "source": [
    "import chemics as cs\n",
    "\n",
    "# Calculate gas density\n",
    "# -----------------------------------------------------------------------------\n",
    "\n",
    "mw = 28.0134    # molecular weight of N2 gas, g/mol\n",
    "p = 101325      # pressure, Pa\n",
    "T = 773         # temperature of gas, K\n",
    "\n",
    "rhog = cs.rhog(mw, p, T)    # density of nitrogen gas, g/m^3\n",
    "\n",
    "print('density of N2 gas (g/m^3) =', rhog)\n",
    "print('density of N2 gas (kg/m^3) =', rhog/1000)"
   ]
  }
 ],
 "metadata": {
  "kernelspec": {
   "display_name": "Python [conda root]",
   "language": "python",
   "name": "conda-root-py"
  },
  "language_info": {
   "codemirror_mode": {
    "name": "ipython",
    "version": 3
   },
   "file_extension": ".py",
   "mimetype": "text/x-python",
   "name": "python",
   "nbconvert_exporter": "python",
   "pygments_lexer": "ipython3",
   "version": "3.4.5"
  }
 },
 "nbformat": 4,
 "nbformat_minor": 2
}
