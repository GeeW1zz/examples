{
 "cells": [
  {
   "cell_type": "markdown",
   "metadata": {},
   "source": [
    "# Bed Expansion Factor\n",
    "\n",
    "The bed expansion factor can be used to determine the expanded bed height of a bubbling fluidized bed reactor. Refer to equations 14.7, 14.8, and 14.18 starting\n",
    "on pg. 318 in the Santos 2010 book. \n",
    "\n",
    "For $d_D < 0.0635$ m:\n",
    "$$f_{bexp} = 1 + \\frac{1.032\\,(U-U_{mf})^{0.57}\\;\\rho_{GA}^{0.083}}{\\rho_p^{0.166}\\,U_{mf}^{0.063}\\,d_D^{0.445}}$$\n",
    "\n",
    "otherwise $d_D \\geq 0.0635$ m:\n",
    "$$f_{bexp} = 1 + \\frac{14.314\\,(U-U_{mf})^{0.738}\\;d_p^{1.006}\\,\\rho_p^{0.376}}{\\rho_{GA}^{0.126}\\;U_{mf}^{0.937}}$$\n",
    "\n",
    "where  \n",
    "$f_{bexp} =$ bed expansion factor (-)  \n",
    "$U =$ gas superficial velocity (m/s)  \n",
    "$U_{mf} =$ minimimum fluidization velocity (m/s)  \n",
    "$\\rho_{GA} =$ gas density (kg/m^3)  \n",
    "$\\rho_p =$ particle density (kg/m^3)  \n",
    "$d_D =$ diameter of bed (m)  \n",
    "$d_p =$ diameter of bed particle (m)  \n",
    "\n",
    "## Reference\n",
    "\n",
    "Marcio de Souza-Santos. *Solid Fuels Combustion and Gasification: Modeling, Simulation*. CRC Press, 2010.\n",
    "\n",
    "## Example\n",
    "\n",
    "Determine expanded bed height of bubbling fluidized bed using the bed expansion factor. Also compute the void fraction of the expanded bed."
   ]
  },
  {
   "cell_type": "code",
   "execution_count": 3,
   "metadata": {
    "collapsed": false
   },
   "outputs": [
    {
     "name": "stdout",
     "output_type": "stream",
     "text": [
      "zmf (m) = 0.1016\n",
      "emf = 0.46\n",
      "fbexp =  1.4864346912670614\n",
      "zf (m) = 0.15102176463273342\n",
      "ef = 0.6367146143906968\n"
     ]
    }
   ],
   "source": [
    "import chemics as cm\n",
    "\n",
    "# Parameters\n",
    "#------------------------------------------------------------------------------\n",
    "\n",
    "umf = 0.1157    # minimum fluidization velocity, m/s\n",
    "us = 3.0*umf    # superficial gas velocity, m/s\n",
    "db = 0.05232    # bed diameter, m\n",
    "zmf = 0.1016    # bed height at minimum fluidizaiton, m\n",
    "emf = 0.46      # void fraction at minimum fluidization\n",
    "rhop = 2500     # density of bed particle, kg/m^3\n",
    "dp = 0.0004     # diameter of bed particle, m\n",
    "g = 9.81        # gravity, m/s^2\n",
    "rhog = 0.4413   # density of gas, kg/m^3\n",
    "\n",
    "# Bed Expansion Calculations\n",
    "#------------------------------------------------------------------------------\n",
    "\n",
    "# bed expansion factor, fbexp (-)\n",
    "fbexp = cm.fbexp(db, dp, rhog, rhop, umf, us)\n",
    "\n",
    "# fluidized bed height, zf (m)\n",
    "zf = zmf*fbexp\n",
    "\n",
    "# fluidized void fraction of bed from Eq 14.18, ef (-)\n",
    "ef = 1 - (1-emf)/fbexp\n",
    "\n",
    "# Print Results\n",
    "#------------------------------------------------------------------------------\n",
    "\n",
    "print('zmf (m) =', zmf)\n",
    "print('emf =', emf)\n",
    "print('fbexp = ', fbexp)\n",
    "print('zf (m) =', zf)\n",
    "print('ef =', ef)\n"
   ]
  }
 ],
 "metadata": {
  "anaconda-cloud": {},
  "kernelspec": {
   "display_name": "Python [default]",
   "language": "python",
   "name": "python3"
  },
  "language_info": {
   "codemirror_mode": {
    "name": "ipython",
    "version": 3
   },
   "file_extension": ".py",
   "mimetype": "text/x-python",
   "name": "python",
   "nbconvert_exporter": "python",
   "pygments_lexer": "ipython3",
   "version": "3.4.5"
  }
 },
 "nbformat": 4,
 "nbformat_minor": 0
}
