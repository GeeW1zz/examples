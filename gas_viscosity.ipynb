{
 "cells": [
  {
   "cell_type": "markdown",
   "metadata": {},
   "source": [
    "# Gas viscosity\n",
    "\n",
    "Equation for viscosity of nitrogen gas as a function of temperature. Valid for temperatures of 150-1500 K.\n",
    "\n",
    "$$\n",
    "\\mu_{N2} = A + B*T + C*T^2\n",
    "$$\n",
    "\n",
    "where $\\mu$ = uP (micropoise) and $T$ = Kelvin.\n",
    "\n",
    "## Reference\n",
    "\n",
    "Ludwig's Applied Process Design for Chemical and Petrochemical Plants, Volume 1, 4th Edition.\n",
    "\n",
    "## Example"
   ]
  },
  {
   "cell_type": "code",
   "execution_count": 1,
   "metadata": {
    "collapsed": false
   },
   "outputs": [
    {
     "name": "stdout",
     "output_type": "stream",
     "text": [
      "viscosity of N2 gas = 350.74513479999996 uP\n",
      "viscosity of N2 gas = 3.507451348e-05 kg/(m s)\n"
     ]
    }
   ],
   "source": [
    "import chemics as ch\n",
    "\n",
    "# Calculate viscosity of N2 gas\n",
    "# -----------------------------------------------------------------------------\n",
    "\n",
    "T = 773    # temperature of gas, K\n",
    "\n",
    "mug_N2 = ch.mug_n2(T)\n",
    "\n",
    "print('viscosity of N2 gas =', mug_N2, 'uP')\n",
    "print('viscosity of N2 gas =', mug_N2/1e7, 'kg/(m s)')"
   ]
  }
 ],
 "metadata": {
  "kernelspec": {
   "display_name": "Python [conda root]",
   "language": "python",
   "name": "conda-root-py"
  },
  "language_info": {
   "codemirror_mode": {
    "name": "ipython",
    "version": 3
   },
   "file_extension": ".py",
   "mimetype": "text/x-python",
   "name": "python",
   "nbconvert_exporter": "python",
   "pygments_lexer": "ipython3",
   "version": "3.4.5"
  }
 },
 "nbformat": 4,
 "nbformat_minor": 2
}
